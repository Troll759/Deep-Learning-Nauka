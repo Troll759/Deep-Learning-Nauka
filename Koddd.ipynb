{
  "nbformat": 4,
  "nbformat_minor": 0,
  "metadata": {
    "colab": {
      "provenance": [],
      "authorship_tag": "ABX9TyNi/iKtiM2lDnm/MS9WKns3",
      "include_colab_link": true
    },
    "kernelspec": {
      "name": "python3",
      "display_name": "Python 3"
    },
    "language_info": {
      "name": "python"
    }
  },
  "cells": [
    {
      "cell_type": "markdown",
      "metadata": {
        "id": "view-in-github",
        "colab_type": "text"
      },
      "source": [
        "<a href=\"https://colab.research.google.com/github/Troll759/Deep-Learning-Nauka/blob/main/Koddd.ipynb\" target=\"_parent\"><img src=\"https://colab.research.google.com/assets/colab-badge.svg\" alt=\"Open In Colab\"/></a>"
      ]
    },
    {
      "cell_type": "code",
      "execution_count": 1,
      "metadata": {
        "colab": {
          "base_uri": "https://localhost:8080/"
        },
        "id": "rRUTXxBEAwcg",
        "outputId": "8e722bb6-4024-46f6-c786-f0b07b76813d"
      },
      "outputs": [
        {
          "output_type": "stream",
          "name": "stdout",
          "text": [
            "wazaaa\n"
          ]
        }
      ],
      "source": [
        "print('wazaaa')"
      ]
    },
    {
      "cell_type": "code",
      "source": [
        "print('hem hem')"
      ],
      "metadata": {
        "colab": {
          "base_uri": "https://localhost:8080/"
        },
        "id": "pR0TIL4-EDfv",
        "outputId": "49fffcef-e8cb-4264-c961-0752f45306e8"
      },
      "execution_count": 2,
      "outputs": [
        {
          "output_type": "stream",
          "name": "stdout",
          "text": [
            "hem hem\n"
          ]
        }
      ]
    }
  ]
}